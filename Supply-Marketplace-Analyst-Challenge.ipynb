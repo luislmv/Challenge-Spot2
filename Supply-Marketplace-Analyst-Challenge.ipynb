{
 "cells": [
  {
   "cell_type": "markdown",
   "metadata": {},
   "source": [
    "# Informe Técnico \n",
    "# Supply Marketplace Analyst Challenge\n",
    "\n",
    "### _Luis Muñiz Valledor_\n",
    "\n",
    "\n"
   ]
  },
  {
   "cell_type": "markdown",
   "metadata": {},
   "source": [
    "## Carga de datos y librerías necesarias"
   ]
  },
  {
   "cell_type": "code",
   "execution_count": 1,
   "metadata": {},
   "outputs": [],
   "source": [
    "import pandas as pd\n",
    "import geopandas as gpd\n",
    "from shapely.geometry import Point\n",
    "import contextily as ctx\n",
    "import matplotlib.pyplot as plt\n",
    "import seaborn as sns\n",
    "import numpy as np"
   ]
  },
  {
   "cell_type": "code",
   "execution_count": 2,
   "metadata": {},
   "outputs": [],
   "source": [
    "# Se establece el tipo de dato durante la carga\n",
    "tipos = {\n",
    "    'id': 'int',  # Identificador\n",
    "    'parent_id': 'str',  # ID del padre\n",
    "    'is_complex': 'int',  # Indicador binario (1 o 0)\n",
    "    'square_space': 'float',  # Espacio en metros cuadrados\n",
    "    'spot_type_id': 'str',  # Tipo de spot\n",
    "    'currency_type': 'str',  # Tipo de moneda\n",
    "    'modality': 'str',  # Modalidad\n",
    "    'latitude': 'float',  # Latitud\n",
    "    'longitude': 'float',  # Longitud\n",
    "    'rate': 'float',  # Tarifa\n",
    "    'created_at': 'str'  # Fecha de creación, como string para luego convertirlo a datetime si es necesario\n",
    "}\n",
    "\n",
    "data = pd.read_csv('Supply_MarketPlace_Analyst_Challenge_DATA.csv', dtype=tipos)\n",
    "geo_data = gpd.read_file('Corredor_Polanco.geojson')"
   ]
  },
  {
   "cell_type": "markdown",
   "metadata": {},
   "source": [
    "## Análisis exploratorio"
   ]
  },
  {
   "cell_type": "markdown",
   "metadata": {},
   "source": [
    "Se muestran algunos datos iniciales del dataframe"
   ]
  },
  {
   "cell_type": "code",
   "execution_count": 3,
   "metadata": {},
   "outputs": [
    {
     "name": "stdout",
     "output_type": "stream",
     "text": [
      "      id parent_id  is_complex  square_space spot_type_id currency_type  \\\n",
      "0  14241       NaN           1       19000.0            9             1   \n",
      "1  14241       NaN           1       19000.0            9             1   \n",
      "2  14584       NaN           0        1200.0            9             1   \n",
      "3  14585       NaN           0        4000.0            9             1   \n",
      "4  14595       NaN           0        2000.0            9             1   \n",
      "5  14636       NaN           0      140000.0           15             2   \n",
      "6  14639       NaN           0         374.0           13             1   \n",
      "7  14640       NaN           1         325.0           11             1   \n",
      "8  14641       NaN           1         325.0           11             1   \n",
      "9  14643       NaN           0          20.0           13             1   \n",
      "\n",
      "  modality   latitude   longitude        rate            created_at  \n",
      "0        2  19.458583  -99.198380    150000.0  2023-08-17T16:25:02Z  \n",
      "1        1  19.458583  -99.198380       150.0  2023-08-17T16:25:02Z  \n",
      "2        1  19.109259  -98.250216     80000.0  2023-08-09T11:22:30Z  \n",
      "3        1  19.107304  -98.226083    230000.0  2023-08-09T11:22:30Z  \n",
      "4        1  19.073841  -98.152620    210000.0  2023-08-09T11:22:30Z  \n",
      "5        2  32.648530 -115.367813  18000000.0  2023-07-02T17:26:54Z  \n",
      "6        1  19.412354  -99.182487    149600.0  2023-07-03T13:10:53Z  \n",
      "7        1  19.371532  -99.180116     88075.0  2023-07-03T15:33:33Z  \n",
      "8        1  19.371532  -99.180116     81575.0  2023-07-03T15:50:01Z  \n",
      "9        1  19.425828  -99.175142     22000.0  2023-07-03T16:23:44Z  \n"
     ]
    }
   ],
   "source": [
    "print(data.head(10))"
   ]
  },
  {
   "cell_type": "markdown",
   "metadata": {},
   "source": [
    "### Tratamiento de datos faltantes y atípicos"
   ]
  },
  {
   "cell_type": "markdown",
   "metadata": {},
   "source": [
    "Se identifican las variables con valores faltantes"
   ]
  },
  {
   "cell_type": "code",
   "execution_count": 4,
   "metadata": {},
   "outputs": [
    {
     "name": "stdout",
     "output_type": "stream",
     "text": [
      "id                  0\n",
      "parent_id        2588\n",
      "is_complex          0\n",
      "square_space        0\n",
      "spot_type_id     1760\n",
      "currency_type      35\n",
      "modality           35\n",
      "latitude         1760\n",
      "longitude        1760\n",
      "rate               35\n",
      "created_at          0\n",
      "dtype: int64\n"
     ]
    }
   ],
   "source": [
    "print(data.isnull().sum())"
   ]
  },
  {
   "cell_type": "markdown",
   "metadata": {},
   "source": [
    "Se espera (por las consideraciones del documento *Supply Marketplace Analyst Challenge*) que la variable `parent_id` presente valors faltantes. No considero conveniente realizar técnicas avanzadas de tratamiento de datos faltantes tales como imputación de datos. Esto se debe a que esta técnica requiere de conocimiento adicional (tanto en el enfoque bayesiano como en el clásico de la estadística). Según convenga, se deberá optar por la supresión de los registros o por establecer una categoría para los valores faltantes, esto permitiría realizar un análisis por grupo. Por ejemplo, la variable `spot_type_id` tiene muchos registros con valores faltantes. En este caso, no conviene eliminarlos, sino considerarlos como un tipo de establecimiento \"tipo-no-stablecedo\"."
   ]
  },
  {
   "cell_type": "code",
   "execution_count": 5,
   "metadata": {},
   "outputs": [],
   "source": [
    "data['spot_type_id'] = data['spot_type_id'].fillna('faltante')"
   ]
  },
  {
   "cell_type": "markdown",
   "metadata": {},
   "source": [
    "Se verifica que los registros con valores faltantes en las variables `currency_type`, `modality` y `rate` son los mismos."
   ]
  },
  {
   "cell_type": "code",
   "execution_count": 6,
   "metadata": {},
   "outputs": [
    {
     "name": "stdout",
     "output_type": "stream",
     "text": [
      "id                  0\n",
      "parent_id        2578\n",
      "is_complex          0\n",
      "square_space        0\n",
      "spot_type_id        0\n",
      "currency_type       0\n",
      "modality            0\n",
      "latitude         1735\n",
      "longitude        1735\n",
      "rate                0\n",
      "created_at          0\n",
      "dtype: int64\n"
     ]
    }
   ],
   "source": [
    "print(data[data['rate'].notnull()].isnull().sum())"
   ]
  },
  {
   "cell_type": "markdown",
   "metadata": {},
   "source": [
    "Ya que los registros afectados son pocos (35) y que no hay información suficiente para reconstruirlos, lo mas conveniente será eliminarlos al realizar los cálculos."
   ]
  },
  {
   "cell_type": "markdown",
   "metadata": {},
   "source": [
    "Se crea una nueva tabla sin estos registros. En lo que sigue, se usará una u otra según convenga."
   ]
  },
  {
   "cell_type": "code",
   "execution_count": 7,
   "metadata": {},
   "outputs": [],
   "source": [
    "data2 = data[data['rate'].notnull()].copy()"
   ]
  },
  {
   "cell_type": "markdown",
   "metadata": {},
   "source": [
    "Veamos algunos estadísticos de las variables `rate` y `square_space`."
   ]
  },
  {
   "cell_type": "code",
   "execution_count": 8,
   "metadata": {},
   "outputs": [
    {
     "name": "stdout",
     "output_type": "stream",
     "text": [
      "               rate  square_space\n",
      "count  4.541000e+03  4.541000e+03\n",
      "mean   3.760917e+06  8.339730e+03\n",
      "std    2.715757e+07  7.350904e+04\n",
      "min    1.000000e+00  1.000000e+00\n",
      "25%    3.000000e+02  1.510000e+02\n",
      "50%    6.500000e+03  5.800000e+02\n",
      "75%    7.500000e+04  2.200000e+03\n",
      "max    1.172250e+09  3.610000e+06\n"
     ]
    }
   ],
   "source": [
    "print(data2[['rate', 'square_space']].describe())"
   ]
  },
  {
   "cell_type": "markdown",
   "metadata": {},
   "source": [
    "Se observa que esta variable toman valores en varios órdenes de magnitud, lo que sugiere que es recomendable realizar un cambio de escala (por ejemplo una escala logarítmica). Además, estas variables llegan a tomar valores muy bajos 1.0. No imagino la venta o renta de un local por un peso o por un dólar. Tampoco imagino locales de un metro cuadrado. Esto sugiere que se deben filtrar los valores menores a cierto umbral (el cual desconozco) ya que deben ser valors erróneos. Además, un local de 3.610000e+06 metros cuadrados me parece improbable. No tengo idea de cual debe ser el umbral máximo para el área y para el precio, pero podemos tomar algún criterio estadístico para establecerlo."
   ]
  },
  {
   "cell_type": "markdown",
   "metadata": {},
   "source": [
    "Se crea una nueva variable con los valores de rate en pesos mexicanos para todos los registros"
   ]
  },
  {
   "cell_type": "code",
   "execution_count": 9,
   "metadata": {},
   "outputs": [],
   "source": [
    "tipo_cambio_usd_a_mxn = 17 #Se puede mejorar, conectándose mediante una API para obtener el tipo de cambio actual.\n",
    "\n",
    "def convertir_a_mxn(row, tipo_cambio):\n",
    "    if row['currency_type'] == \"1\":  # Si la moneda ya está en MXN\n",
    "        return row['rate']\n",
    "    elif row['currency_type'] == \"2\":  # Si la moneda está en USD\n",
    "        return row['rate'] * tipo_cambio\n",
    "    else:\n",
    "        return None  # Para casos donde 'currency_type' no es ni 1 ni 2, por si hay datos erróneos\n",
    "\n",
    "# Aplicar la función y asignar los valores a la nueva columna utilizando .loc\n",
    "data2.loc[:, 'rate_mxn'] = data2.apply(lambda row: convertir_a_mxn(row, tipo_cambio_usd_a_mxn), axis=1)"
   ]
  },
  {
   "cell_type": "markdown",
   "metadata": {},
   "source": [
    "Se crean variables en escala logarítmica"
   ]
  },
  {
   "cell_type": "code",
   "execution_count": 10,
   "metadata": {},
   "outputs": [],
   "source": [
    "data2['rate_log'] = np.log10(data2['rate'])\n",
    "data2['rate_mxn_log'] = np.log10(data2['rate_mxn'])\n",
    "data2['square_space_log'] = np.log10(data2['square_space'])"
   ]
  },
  {
   "cell_type": "markdown",
   "metadata": {},
   "source": [
    "Un criterio para identificar valores atípicos podría ser detectar los puntos fuera de los bigotes de un boxplot"
   ]
  },
  {
   "cell_type": "code",
   "execution_count": 11,
   "metadata": {},
   "outputs": [
    {
     "data": {
      "image/png": "[encoded data removed]",
      "text/plain": [
       "<Figure size 720x360 with 2 Axes>"
      ]
     },
     "metadata": {
      "needs_background": "light"
     },
     "output_type": "display_data"
    }
   ],
   "source": [
    "# Creando los boxplot\n",
    "plt.figure(figsize=(10, 5))\n",
    "plt.subplot(1, 2, 1)\n",
    "data2['rate_mxn_log'].plot(kind='box')\n",
    "plt.title('Boxplot de log. Rate (mxn)')\n",
    "\n",
    "plt.subplot(1, 2, 2)\n",
    "data2['square_space_log'].plot(kind='box')\n",
    "plt.title('Boxplot de log. Square Space')\n",
    "\n",
    "plt.show()"
   ]
  },
  {
   "cell_type": "markdown",
   "metadata": {},
   "source": [
    "Podemos filtrar (aproximadamente) estos valores mediante:"
   ]
  },
  {
   "cell_type": "code",
   "execution_count": 12,
   "metadata": {},
   "outputs": [],
   "source": [
    "Q1_r = data2['rate_mxn_log'].quantile(0.25)\n",
    "Q3_r = data2['rate_mxn_log'].quantile(0.75)\n",
    "\n",
    "Q1_s = data2['square_space_log'].quantile(0.25)\n",
    "Q3_s = data2['square_space_log'].quantile(0.75)\n",
    "\n",
    "IQR_r = Q3_r - Q1_r # Se obtiene el rango intercuatílico rate_mxn_log\n",
    "IQR_s = Q3_s - Q1_s # Se obtiene el rango intercuatílico square_space_log\n",
    "\n",
    "# Límite de los bigotes del boxplot\n",
    "limite_inferior_r = Q1_r - 1.5 * IQR_r\n",
    "limite_superior_r = Q3_r + 1.5 * IQR_r\n",
    "\n",
    "limite_inferior_s = Q1_s - 1.5 * IQR_s\n",
    "limite_superior_s = Q3_s + 1.5 * IQR_s\n",
    "\n",
    "# Filtrar los datos atípicos\n",
    "datos_atipicos = data2[(data2['rate_mxn_log'] < limite_inferior_r) | (data2['rate_mxn_log'] > limite_superior_r) | (data2['square_space_log'] < limite_inferior_s) | (data2['square_space_log'] > limite_superior_s)]\n",
    "\n",
    "\n",
    "# Filtrar los datos que no son atípicos\n",
    "data3 = data2[(data2['rate_mxn_log'] >= limite_inferior_r) & (data2['rate_mxn_log'] <= limite_superior_r) & (data2['square_space_log'] >= limite_inferior_s) & (data2['square_space_log'] <= limite_superior_s)].copy()"
   ]
  },
  {
   "cell_type": "markdown",
   "metadata": {},
   "source": [
    "Se observa, que ahora el dataframe `datos_no_atipicos` no presenta (salvo alguna imprecision en el límite del bigote que se puede deber a alguna pequeña diferencia del algoritmo del boxplot) estos datos atípicos."
   ]
  },
  {
   "cell_type": "code",
   "execution_count": 13,
   "metadata": {},
   "outputs": [
    {
     "data": {
      "image/png": "[encoded data removed]",
      "text/plain": [
       "<Figure size 720x360 with 2 Axes>"
      ]
     },
     "metadata": {
      "needs_background": "light"
     },
     "output_type": "display_data"
    }
   ],
   "source": [
    "# Creando los boxplot\n",
    "plt.figure(figsize=(10, 5))\n",
    "plt.subplot(1, 2, 1)\n",
    "data3['rate_mxn_log'].plot(kind='box')\n",
    "plt.title('Boxplot de log. Rate (mxn)')\n",
    "\n",
    "plt.subplot(1, 2, 2)\n",
    "data3['square_space_log'].plot(kind='box')\n",
    "plt.title('Boxplot de log. Square Space')\n",
    "\n",
    "plt.show()"
   ]
  },
  {
   "cell_type": "markdown",
   "metadata": {},
   "source": [
    "Esta solución ha sido una improvisación y puede que no sea la adecuada en la práctica, pero es una buena solución si no se cuenta con información adicional (del sector inmobiliario) que establezca debidamente estos umbrales.\n",
    "\n",
    "Por otra parte, el detectar los valores atípicos de cada variable por separado no garantiza que no existan valores atípicos al hacer un análisis multivariado, ya que los puntos atípicos podrían estar en el producto cartesiano del conjunto de valores que toman ambas variables. Para esto, se deben aplicar otras técnicas, pero para no extenderme más en este apartado daré por bueno este análisis."
   ]
  },
  {
   "cell_type": "markdown",
   "metadata": {},
   "source": [
    "### Valor promedio por metro cuadrado"
   ]
  },
  {
   "cell_type": "markdown",
   "metadata": {},
   "source": [
    "La siguiente tabla resume el valor promedio por metro cuadrado para cada tipo de spot y modalidad"
   ]
  },
  {
   "cell_type": "code",
   "execution_count": 14,
   "metadata": {},
   "outputs": [
    {
     "name": "stdout",
     "output_type": "stream",
     "text": [
      "spot_type_id  modality\n",
      "11            1             263.612581\n",
      "              2           23663.730308\n",
      "13            1             958.227634\n",
      "              2           32933.153037\n",
      "15            1              90.749790\n",
      "              2            9100.801706\n",
      "9             1              52.640502\n",
      "              2           10988.656376\n",
      "faltante      1              27.644694\n",
      "              2            1958.259052\n",
      "Name: value_per_sqm_mxn, dtype: float64\n"
     ]
    }
   ],
   "source": [
    "# Calcula el valor por metro cuadrado\n",
    "data3['value_per_sqm'] = data3['rate'] / data3['square_space']\n",
    "data3['value_per_sqm_mxn'] = data3['rate_mxn'] / data3['square_space']\n",
    "\n",
    "# Agrupa y calcula la media\n",
    "average_values = data3.groupby(['spot_type_id', 'modality'])['value_per_sqm_mxn'].mean()\n",
    "print(average_values)"
   ]
  },
  {
   "cell_type": "code",
   "execution_count": 15,
   "metadata": {},
   "outputs": [],
   "source": [
    "average_values_df = average_values.reset_index()"
   ]
  },
  {
   "cell_type": "code",
   "execution_count": 16,
   "metadata": {},
   "outputs": [
    {
     "data": {
      "image/png": "[encoded data removed]",
      "text/plain": [
       "<Figure size 1080x432 with 2 Axes>"
      ]
     },
     "metadata": {
      "needs_background": "light"
     },
     "output_type": "display_data"
    }
   ],
   "source": [
    "modalidad_1 = average_values_df[average_values_df['modality'] == \"1\"]\n",
    "modalidad_2 = average_values_df[average_values_df['modality'] == \"2\"]\n",
    "\n",
    "fig, axes = plt.subplots(nrows=1, ncols=2, figsize=(15, 6))\n",
    "\n",
    "# Gráfico para la Modalidad 1 (Renta)\n",
    "sns.barplot(x='spot_type_id', y='value_per_sqm_mxn', data=modalidad_1, ax=axes[0])\n",
    "axes[0].set_title('Promedio de Valor por Metro Cuadrado para Renta')\n",
    "axes[0].set_xlabel('Spot Type ID')\n",
    "axes[0].set_ylabel('Valor Promedio por Metro Cuadrado')\n",
    "\n",
    "# Gráfico para la Modalidad 2 (Venta)\n",
    "sns.barplot(x='spot_type_id', y='value_per_sqm_mxn', data=modalidad_2, ax=axes[1])\n",
    "axes[1].set_title('Promedio de Valor por Metro Cuadrado para Venta')\n",
    "axes[1].set_xlabel('Spot Type ID')\n",
    "axes[1].set_ylabel('Valor Promedio por Metro Cuadrado')\n",
    "\n",
    "plt.tight_layout()\n",
    "plt.show()"
   ]
  },
  {
   "cell_type": "markdown",
   "metadata": {},
   "source": [
    "Como se puede apreciar, se obtienen los promedios también para los establecimientos sin tipo. Esto podría ser de interés práctico. Se observa que los establecimientos Retail son los más valorados (de media) por metro cuadrado, tanto en venta como en renta seguido de las oficinas. Mientras que los menos valorados son los que no tienen un tipo asignado (tanto en renta como en venta).  "
   ]
  },
  {
   "cell_type": "markdown",
   "metadata": {},
   "source": [
    "### Análisis geoespacial "
   ]
  },
  {
   "cell_type": "code",
   "execution_count": 17,
   "metadata": {},
   "outputs": [],
   "source": [
    "# Se filtran los Retail en Renta\n",
    "espacios_retail_renta = data3[(data3['spot_type_id'] == '13') & (data3['modality'] == '1')].copy()"
   ]
  },
  {
   "cell_type": "code",
   "execution_count": 18,
   "metadata": {},
   "outputs": [],
   "source": [
    "# Se crean los puntos con latitude y longitude y se almacenan en la variable geometry\n",
    "espacios_retail_renta['geometry'] = espacios_retail_renta.apply(lambda row: Point(row['longitude'], row['latitude']), axis=1)\n",
    "geo_espacios_retail_renta = gpd.GeoDataFrame(espacios_retail_renta, geometry='geometry')\n",
    "\n",
    "# Se realiza la intersección con el .geojson de Polanco\n",
    "espacios_en_polanco = geo_espacios_retail_renta[geo_espacios_retail_renta.intersects(geo_data.geometry.unary_union)]"
   ]
  },
  {
   "cell_type": "markdown",
   "metadata": {},
   "source": [
    "Se realizan los cálculos indicados. Se debe tener en cuenta que se han filtrado algunos registros con faltantes y datos atípicos. Por tanto, el número de espacios en Polanco podría ser menor que el contenido en la tabla original."
   ]
  },
  {
   "cell_type": "code",
   "execution_count": 19,
   "metadata": {},
   "outputs": [
    {
     "name": "stdout",
     "output_type": "stream",
     "text": [
      "Número de espacios en Polanco: 29\n",
      "Valor promedio: 143243.9655172414\n"
     ]
    }
   ],
   "source": [
    "num_espacios = len(espacios_en_polanco)\n",
    "valor_promedio = espacios_en_polanco['rate_mxn'].mean()\n",
    "\n",
    "print(f\"Número de espacios en Polanco: {num_espacios}\")\n",
    "print(f\"Valor promedio: {valor_promedio}\")"
   ]
  },
  {
   "cell_type": "markdown",
   "metadata": {},
   "source": [
    "No se aprecian cambios al trabajar con data2 en lugar de data3, parece que los datos atípicos no eran de Polanco."
   ]
  },
  {
   "cell_type": "code",
   "execution_count": 20,
   "metadata": {},
   "outputs": [
    {
     "name": "stdout",
     "output_type": "stream",
     "text": [
      "Número de espacios en Polanco: 29\n",
      "Valor promedio: 143243.9655172414\n"
     ]
    }
   ],
   "source": [
    "espacios_retail_renta2 = data2[(data2['spot_type_id'] == '13') & (data2['modality'] == '1')].copy()\n",
    "\n",
    "espacios_retail_renta2['geometry'] = espacios_retail_renta2.apply(lambda row: Point(row['longitude'], row['latitude']), axis=1)\n",
    "geo_espacios_retail_renta2 = gpd.GeoDataFrame(espacios_retail_renta2, geometry='geometry')\n",
    "\n",
    "\n",
    "espacios_en_polanco2 = geo_espacios_retail_renta2[geo_espacios_retail_renta2.intersects(geo_data.geometry.unary_union)]\n",
    "num_espacios2 = len(espacios_en_polanco2)\n",
    "valor_promedio2 = espacios_en_polanco2['rate_mxn'].mean()\n",
    "\n",
    "print(f\"Número de espacios en Polanco: {num_espacios2}\")\n",
    "print(f\"Valor promedio: {valor_promedio2}\")"
   ]
  },
  {
   "cell_type": "markdown",
   "metadata": {},
   "source": [
    "Veamos los locales ubicados en el polígono de Polanco."
   ]
  },
  {
   "cell_type": "code",
   "execution_count": 21,
   "metadata": {},
   "outputs": [
    {
     "name": "stderr",
     "output_type": "stream",
     "text": [
      "/tmp/ipykernel_162257/732104586.py:2: FutureWarning: The geopandas.dataset module is deprecated and will be removed in GeoPandas 1.0. You can get the original 'naturalearth_lowres' data from https://www.naturalearthdata.com/downloads/110m-cultural-vectors/.\n",
      "  mexico = gpd.read_file(gpd.datasets.get_path('naturalearth_lowres'))\n"
     ]
    },
    {
     "data": {
      "image/png": "[encoded data removed]",
      "text/plain": [
       "<Figure size 720x720 with 1 Axes>"
      ]
     },
     "metadata": {
      "needs_background": "light"
     },
     "output_type": "display_data"
    }
   ],
   "source": [
    "# Se carga un mapa base de México\n",
    "mexico = gpd.read_file(gpd.datasets.get_path('naturalearth_lowres'))\n",
    "mexico = mexico[mexico['name'] == 'Mexico']\n",
    "\n",
    "# Se carga el polígono de Polanco\n",
    "polanco_geo = gpd.read_file('Corredor_Polanco.geojson')\n",
    "\n",
    "# Se crea la figura y el eje\n",
    "fig, ax = plt.subplots(figsize=(10, 10))\n",
    "\n",
    "# Se dibuja el mapa base\n",
    "mexico.plot(ax=ax, color='white', edgecolor='black')\n",
    "\n",
    "# Se ibuja los límites de Polanco\n",
    "polanco_geo.plot(ax=ax, edgecolor='blue')\n",
    "\n",
    "# Se dibujan los locales en Polanco\n",
    "espacios_en_polanco.plot(ax=ax, marker='o', color='red', markersize=5)\n",
    "\n",
    "# Se ajustan los límites del eje para que se enfoque Polanco\n",
    "x_min, y_min, x_max, y_max = polanco_geo.total_bounds\n",
    "ax.set_xlim(x_min, x_max)\n",
    "ax.set_ylim(y_min, y_max)\n",
    "\n",
    "# Se añade título y etiquetas\n",
    "plt.title('Locales Retail en Renta en el Corredor de Polanco')\n",
    "plt.xlabel('Longitud')\n",
    "plt.ylabel('Latitud')\n",
    "\n",
    "plt.show()"
   ]
  },
  {
   "cell_type": "markdown",
   "metadata": {},
   "source": [
    "Más interesante sería mostrar los locales de manera que el precio de la renta determine su tamaño."
   ]
  },
  {
   "cell_type": "code",
   "execution_count": 22,
   "metadata": {},
   "outputs": [
    {
     "name": "stderr",
     "output_type": "stream",
     "text": [
      "/tmp/ipykernel_162257/2914630151.py:2: FutureWarning: The geopandas.dataset module is deprecated and will be removed in GeoPandas 1.0. You can get the original 'naturalearth_lowres' data from https://www.naturalearthdata.com/downloads/110m-cultural-vectors/.\n",
      "  mexico = gpd.read_file(gpd.datasets.get_path('naturalearth_lowres'))\n"
     ]
    },
    {
     "data": {
      "image/png": "[encoded data removed]",
      "text/plain": [
       "<Figure size 720x720 with 1 Axes>"
      ]
     },
     "metadata": {
      "needs_background": "light"
     },
     "output_type": "display_data"
    }
   ],
   "source": [
    "# Se carga un mapa base de México\n",
    "mexico = gpd.read_file(gpd.datasets.get_path('naturalearth_lowres'))\n",
    "mexico = mexico[mexico['name'] == 'Mexico']\n",
    "\n",
    "# Se carga el polígono de Polanco\n",
    "polanco_geo = gpd.read_file('Corredor_Polanco.geojson')\n",
    "\n",
    "# Se crea la figura y el eje\n",
    "fig, ax = plt.subplots(figsize=(10, 10))\n",
    "\n",
    "# Se dibuja el mapa base\n",
    "mexico.plot(ax=ax, color='white', edgecolor='black')\n",
    "\n",
    "# Se ibuja los límites de Polanco\n",
    "polanco_geo.plot(ax=ax, edgecolor='blue')\n",
    "\n",
    "# Se dibujan los locales en Polanco con el tamaño de los puntos basado en su valor de rate_mxn.\n",
    "factor_de_ajuste = 100  # Para escalar los valores\n",
    "espacios_en_polanco.plot(ax=ax, marker='o', color='red', markersize=espacios_en_polanco['rate_mxn'] / factor_de_ajuste, alpha=0.5)\n",
    "\n",
    "# Se dibujan los locales en Polanco\n",
    "x_min, y_min, x_max, y_max = polanco_geo.total_bounds\n",
    "ax.set_xlim(x_min, x_max)\n",
    "ax.set_ylim(y_min, y_max)\n",
    "\n",
    "# Se añade título y etiquetas\n",
    "plt.title('Locales Retail en Renta en el Corredor de Polanco (Tamaño basado en Rate (mxn))')\n",
    "plt.xlabel('Longitud')\n",
    "plt.ylabel('Latitud')\n",
    "\n",
    "plt.show()"
   ]
  },
  {
   "cell_type": "markdown",
   "metadata": {},
   "source": [
    "Esta manera de graficar mapas en python está obsoleta, pero todavía funciona."
   ]
  },
  {
   "cell_type": "markdown",
   "metadata": {},
   "source": [
    "### Respuestas a preguntas"
   ]
  },
  {
   "cell_type": "markdown",
   "metadata": {},
   "source": [
    "Los espacios individuales contemplan a los subespacios y a los espacios con `parent_id=\"0\"` \"...Espacios “sub” (subespacios): son espacios individuales...\" (escribo la cita para que no haya duda al respecto). Luego, como la variable `is_complex` no tiene valores faltantes, necesariamente esta tendría que valer `\"0\"` independientemente de que `is_complex` esté o no. Voy a trabajar con la `data2` que tienen asignado algún valor, pero que pueden presentar datos atípicos."
   ]
  },
  {
   "cell_type": "code",
   "execution_count": 23,
   "metadata": {},
   "outputs": [
    {
     "name": "stdout",
     "output_type": "stream",
     "text": [
      "Existen 3764 espacios individuales.\n",
      "Existen 1963 subespacios.\n",
      "Existen 787 multi-tenant.\n"
     ]
    }
   ],
   "source": [
    "#espacios_individuales = data[(data['parent_id'].isnull()) & (data['is_complex'] == 0)]\n",
    "espacios_individuales = data2[data2['is_complex'] == 0].copy()\n",
    "subespacios = data2[(data2['parent_id'].notnull()) & (data2['is_complex'] == 0)]\n",
    "espacios_multi_tenant = data[data['is_complex'] == 1]\n",
    "\n",
    "num_espacios_individuales = len(espacios_individuales)\n",
    "num_subespacios = len(subespacios)\n",
    "num_espacios_multi_tenant = len(espacios_multi_tenant)\n",
    "\n",
    "print(f\"Existen {num_espacios_individuales} espacios individuales.\")\n",
    "print(f\"Existen {num_subespacios} subespacios.\")\n",
    "print(f\"Existen {num_espacios_multi_tenant} multi-tenant.\")"
   ]
  },
  {
   "cell_type": "markdown",
   "metadata": {},
   "source": [
    "La siguiente tabla muestra el número de espacios por tipo de Spot para los espacios individuales. Se ha incluido el número de espacios sin tipo de Spot."
   ]
  },
  {
   "cell_type": "code",
   "execution_count": 24,
   "metadata": {},
   "outputs": [
    {
     "name": "stdout",
     "output_type": "stream",
     "text": [
      "spot_type_id\n",
      "11           468\n",
      "13           810\n",
      "15           328\n",
      "9            423\n",
      "faltante    1735\n",
      "dtype: int64\n"
     ]
    }
   ],
   "source": [
    "espacios_por_tipo = espacios_individuales.groupby('spot_type_id').size()\n",
    "print(espacios_por_tipo)"
   ]
  },
  {
   "cell_type": "code",
   "execution_count": 25,
   "metadata": {},
   "outputs": [
    {
     "name": "stderr",
     "output_type": "stream",
     "text": [
      "/tmp/ipykernel_162257/884704809.py:2: UserWarning: Converting to PeriodArray/Index representation will drop timezone information.\n",
      "  espacios_individuales['trimestre'] = espacios_individuales['created_at'].dt.to_period('Q')\n"
     ]
    }
   ],
   "source": [
    "espacios_individuales['created_at'] = pd.to_datetime(espacios_individuales['created_at'])\n",
    "espacios_individuales['trimestre'] = espacios_individuales['created_at'].dt.to_period('Q')\n",
    "trimestre_mas_espacios = espacios_individuales.groupby('trimestre').size().idxmax()"
   ]
  },
  {
   "cell_type": "code",
   "execution_count": 26,
   "metadata": {},
   "outputs": [
    {
     "name": "stdout",
     "output_type": "stream",
     "text": [
      "2023Q3\n"
     ]
    }
   ],
   "source": [
    "print(trimestre_mas_espacios)"
   ]
  },
  {
   "cell_type": "markdown",
   "metadata": {},
   "source": [
    "Se crearon más espacios individuales en el tercer trimestre del año 2023."
   ]
  },
  {
   "cell_type": "code",
   "execution_count": 27,
   "metadata": {},
   "outputs": [
    {
     "name": "stdout",
     "output_type": "stream",
     "text": [
      "El tipo de Spot que suma más metros cuadrados es: 15.\n"
     ]
    }
   ],
   "source": [
    "tipo_spot_mas_metros = espacios_individuales.groupby('spot_type_id')['square_space'].sum().idxmax()\n",
    "\n",
    "print(f\"El tipo de Spot que suma más metros cuadrados es: {tipo_spot_mas_metros}.\")"
   ]
  },
  {
   "cell_type": "markdown",
   "metadata": {},
   "source": [
    "Es decir, los terrenos, lo cual parece ser el resultado esperado."
   ]
  },
  {
   "cell_type": "markdown",
   "metadata": {},
   "source": [
    "Si tuviera más tiempo habría realizado un análisis exploratorio más amplio y habría investigado una mejor manera de presentar los mapas. Especialmente, habría usado técnicas de análisis multivariaado para obtener indicadores útiles y detectar los atípicos que mencioné más arriba. Estoy pensando en que habría sido interesante un PCA (análisis de componentes principales por sus siglas en inglés). También podría ser pertinente hacer inferencia o predicciones empleando técnicas de machine learning entre otras. \n",
    "\n",
    "Por otra parte, me hubiera gustado realizar un informe en condiciones, no sólo un reporte en un notebook. Estoy pensando en un documento pdf similar al obtenido en R-Markdown junto a un Dashboard interactivo en Power BI o Looker Data Studio. Esto último con el foco en la facilidad de uso para el personal no técnico como mi potencial jefa Monica."
   ]
  }
 ],
 "metadata": {
  "kernelspec": {
   "display_name": "Python 3",
   "language": "python",
   "name": "python3"
  },
  "language_info": {
   "codemirror_mode": {
    "name": "ipython",
    "version": 3
   },
   "file_extension": ".py",
   "mimetype": "text/x-python",
   "name": "python",
   "nbconvert_exporter": "python",
   "pygments_lexer": "ipython3",
   "version": "3.10.12"
  }
 },
 "nbformat": 4,
 "nbformat_minor": 2
}
